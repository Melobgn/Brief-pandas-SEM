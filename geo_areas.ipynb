{
 "cells": [
  {
   "cell_type": "code",
   "execution_count": 1,
   "metadata": {},
   "outputs": [],
   "source": [
    "import pandas as pd\n",
    "\n",
    "df_afr_aust = pd.read_csv('areas/afrique_australe.csv')\n",
    "df_afr_cent = pd.read_csv('areas/afrique_centrale.csv')\n",
    "df_afr_occi = pd.read_csv('areas/afrique_occidentale.csv')\n",
    "df_afr_orient = pd.read_csv('areas/afrique_orientale.csv')\n",
    "df_afr_sept = pd.read_csv('areas/afrique_sept.csv')\n",
    "\n",
    "df_amer_cent = pd.read_csv('areas/amerique_centrale.csv')\n",
    "df_amer_sud = pd.read_csv('areas/amerique_du_sud.csv')\n",
    "df_amer_sept = pd.read_csv('areas/amerique_sept.csv')\n",
    "\n",
    "df_asie_cent = pd.read_csv('areas/asie_centrale.csv')\n",
    "df_asie_merid = pd.read_csv('areas/asie_meridio.csv')\n",
    "df_asie_occi = pd.read_csv('areas/asie_occidentale.csv')\n",
    "df_asie_orient = pd.read_csv('areas/asie_orientale.csv')\n",
    "df_asie_sud = pd.read_csv('areas/asie_sud_est.csv')\n",
    "\n",
    "df_austr_nz = pd.read_csv('areas/australie_nz.csv')\n",
    "\n",
    "df_caraibes = pd.read_csv('areas/caraibes.csv')\n",
    "\n",
    "df_europe_merid = pd.read_csv('areas/europe_meridoniale.csv')\n",
    "df_europe_occi = pd.read_csv('areas/europe_occidentale.csv')\n",
    "df_europe_orient = pd.read_csv('areas/europe_orientale.csv')\n",
    "df_europe_sept = pd.read_csv('areas/europe_septentrionale.csv')\n",
    "\n",
    "df_melanesie = pd.read_csv('areas/melanesie.csv')\n",
    "df_micronesie = pd.read_csv('areas/micronesie.csv')\n",
    "df_polynesie = pd.read_csv('areas/polynesie.csv')\n"
   ]
  },
  {
   "cell_type": "code",
   "execution_count": null,
   "metadata": {},
   "outputs": [],
   "source": []
  }
 ],
 "metadata": {
  "kernelspec": {
   "display_name": "venv",
   "language": "python",
   "name": "python3"
  },
  "language_info": {
   "codemirror_mode": {
    "name": "ipython",
    "version": 3
   },
   "file_extension": ".py",
   "mimetype": "text/x-python",
   "name": "python",
   "nbconvert_exporter": "python",
   "pygments_lexer": "ipython3",
   "version": "3.10.12"
  }
 },
 "nbformat": 4,
 "nbformat_minor": 2
}
