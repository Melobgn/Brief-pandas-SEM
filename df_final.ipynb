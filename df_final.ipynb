{
 "cells": [
  {
   "cell_type": "code",
   "execution_count": 1,
   "metadata": {},
   "outputs": [
    {
     "ename": "FileNotFoundError",
     "evalue": "[Errno 2] No such file or directory: 'origine_animale.csv'",
     "output_type": "error",
     "traceback": [
      "\u001b[0;31m---------------------------------------------------------------------------\u001b[0m",
      "\u001b[0;31mFileNotFoundError\u001b[0m                         Traceback (most recent call last)",
      "\u001b[1;32m/home/utilisateur/Documents/Pandas-brief/df_final.ipynb Cell 1\u001b[0m line \u001b[0;36m2\n\u001b[1;32m      <a href='vscode-notebook-cell:/home/utilisateur/Documents/Pandas-brief/df_final.ipynb#X26sZmlsZQ%3D%3D?line=0'>1</a>\u001b[0m \u001b[39mimport\u001b[39;00m \u001b[39mpandas\u001b[39;00m \u001b[39mas\u001b[39;00m \u001b[39mpd\u001b[39;00m\n\u001b[0;32m----> <a href='vscode-notebook-cell:/home/utilisateur/Documents/Pandas-brief/df_final.ipynb#X26sZmlsZQ%3D%3D?line=1'>2</a>\u001b[0m df_anim \u001b[39m=\u001b[39m pd\u001b[39m.\u001b[39;49mread_csv(\u001b[39m'\u001b[39;49m\u001b[39morigine_animale.csv\u001b[39;49m\u001b[39m'\u001b[39;49m)\n\u001b[1;32m      <a href='vscode-notebook-cell:/home/utilisateur/Documents/Pandas-brief/df_final.ipynb#X26sZmlsZQ%3D%3D?line=2'>3</a>\u001b[0m df_veg \u001b[39m=\u001b[39m pd\u001b[39m.\u001b[39mread_csv(\u001b[39m'\u001b[39m\u001b[39morigine_vegetale.csv\u001b[39m\u001b[39m'\u001b[39m)\n\u001b[1;32m      <a href='vscode-notebook-cell:/home/utilisateur/Documents/Pandas-brief/df_final.ipynb#X26sZmlsZQ%3D%3D?line=3'>4</a>\u001b[0m df_pop \u001b[39m=\u001b[39m pd\u001b[39m.\u001b[39mread_csv(\u001b[39m'\u001b[39m\u001b[39mpopulation.csv\u001b[39m\u001b[39m'\u001b[39m)\n",
      "File \u001b[0;32m~/Documents/Pandas-brief/.venv/lib/python3.10/site-packages/pandas/io/parsers/readers.py:948\u001b[0m, in \u001b[0;36mread_csv\u001b[0;34m(filepath_or_buffer, sep, delimiter, header, names, index_col, usecols, dtype, engine, converters, true_values, false_values, skipinitialspace, skiprows, skipfooter, nrows, na_values, keep_default_na, na_filter, verbose, skip_blank_lines, parse_dates, infer_datetime_format, keep_date_col, date_parser, date_format, dayfirst, cache_dates, iterator, chunksize, compression, thousands, decimal, lineterminator, quotechar, quoting, doublequote, escapechar, comment, encoding, encoding_errors, dialect, on_bad_lines, delim_whitespace, low_memory, memory_map, float_precision, storage_options, dtype_backend)\u001b[0m\n\u001b[1;32m    935\u001b[0m kwds_defaults \u001b[39m=\u001b[39m _refine_defaults_read(\n\u001b[1;32m    936\u001b[0m     dialect,\n\u001b[1;32m    937\u001b[0m     delimiter,\n\u001b[0;32m   (...)\u001b[0m\n\u001b[1;32m    944\u001b[0m     dtype_backend\u001b[39m=\u001b[39mdtype_backend,\n\u001b[1;32m    945\u001b[0m )\n\u001b[1;32m    946\u001b[0m kwds\u001b[39m.\u001b[39mupdate(kwds_defaults)\n\u001b[0;32m--> 948\u001b[0m \u001b[39mreturn\u001b[39;00m _read(filepath_or_buffer, kwds)\n",
      "File \u001b[0;32m~/Documents/Pandas-brief/.venv/lib/python3.10/site-packages/pandas/io/parsers/readers.py:611\u001b[0m, in \u001b[0;36m_read\u001b[0;34m(filepath_or_buffer, kwds)\u001b[0m\n\u001b[1;32m    608\u001b[0m _validate_names(kwds\u001b[39m.\u001b[39mget(\u001b[39m\"\u001b[39m\u001b[39mnames\u001b[39m\u001b[39m\"\u001b[39m, \u001b[39mNone\u001b[39;00m))\n\u001b[1;32m    610\u001b[0m \u001b[39m# Create the parser.\u001b[39;00m\n\u001b[0;32m--> 611\u001b[0m parser \u001b[39m=\u001b[39m TextFileReader(filepath_or_buffer, \u001b[39m*\u001b[39;49m\u001b[39m*\u001b[39;49mkwds)\n\u001b[1;32m    613\u001b[0m \u001b[39mif\u001b[39;00m chunksize \u001b[39mor\u001b[39;00m iterator:\n\u001b[1;32m    614\u001b[0m     \u001b[39mreturn\u001b[39;00m parser\n",
      "File \u001b[0;32m~/Documents/Pandas-brief/.venv/lib/python3.10/site-packages/pandas/io/parsers/readers.py:1448\u001b[0m, in \u001b[0;36mTextFileReader.__init__\u001b[0;34m(self, f, engine, **kwds)\u001b[0m\n\u001b[1;32m   1445\u001b[0m     \u001b[39mself\u001b[39m\u001b[39m.\u001b[39moptions[\u001b[39m\"\u001b[39m\u001b[39mhas_index_names\u001b[39m\u001b[39m\"\u001b[39m] \u001b[39m=\u001b[39m kwds[\u001b[39m\"\u001b[39m\u001b[39mhas_index_names\u001b[39m\u001b[39m\"\u001b[39m]\n\u001b[1;32m   1447\u001b[0m \u001b[39mself\u001b[39m\u001b[39m.\u001b[39mhandles: IOHandles \u001b[39m|\u001b[39m \u001b[39mNone\u001b[39;00m \u001b[39m=\u001b[39m \u001b[39mNone\u001b[39;00m\n\u001b[0;32m-> 1448\u001b[0m \u001b[39mself\u001b[39m\u001b[39m.\u001b[39m_engine \u001b[39m=\u001b[39m \u001b[39mself\u001b[39;49m\u001b[39m.\u001b[39;49m_make_engine(f, \u001b[39mself\u001b[39;49m\u001b[39m.\u001b[39;49mengine)\n",
      "File \u001b[0;32m~/Documents/Pandas-brief/.venv/lib/python3.10/site-packages/pandas/io/parsers/readers.py:1705\u001b[0m, in \u001b[0;36mTextFileReader._make_engine\u001b[0;34m(self, f, engine)\u001b[0m\n\u001b[1;32m   1703\u001b[0m     \u001b[39mif\u001b[39;00m \u001b[39m\"\u001b[39m\u001b[39mb\u001b[39m\u001b[39m\"\u001b[39m \u001b[39mnot\u001b[39;00m \u001b[39min\u001b[39;00m mode:\n\u001b[1;32m   1704\u001b[0m         mode \u001b[39m+\u001b[39m\u001b[39m=\u001b[39m \u001b[39m\"\u001b[39m\u001b[39mb\u001b[39m\u001b[39m\"\u001b[39m\n\u001b[0;32m-> 1705\u001b[0m \u001b[39mself\u001b[39m\u001b[39m.\u001b[39mhandles \u001b[39m=\u001b[39m get_handle(\n\u001b[1;32m   1706\u001b[0m     f,\n\u001b[1;32m   1707\u001b[0m     mode,\n\u001b[1;32m   1708\u001b[0m     encoding\u001b[39m=\u001b[39;49m\u001b[39mself\u001b[39;49m\u001b[39m.\u001b[39;49moptions\u001b[39m.\u001b[39;49mget(\u001b[39m\"\u001b[39;49m\u001b[39mencoding\u001b[39;49m\u001b[39m\"\u001b[39;49m, \u001b[39mNone\u001b[39;49;00m),\n\u001b[1;32m   1709\u001b[0m     compression\u001b[39m=\u001b[39;49m\u001b[39mself\u001b[39;49m\u001b[39m.\u001b[39;49moptions\u001b[39m.\u001b[39;49mget(\u001b[39m\"\u001b[39;49m\u001b[39mcompression\u001b[39;49m\u001b[39m\"\u001b[39;49m, \u001b[39mNone\u001b[39;49;00m),\n\u001b[1;32m   1710\u001b[0m     memory_map\u001b[39m=\u001b[39;49m\u001b[39mself\u001b[39;49m\u001b[39m.\u001b[39;49moptions\u001b[39m.\u001b[39;49mget(\u001b[39m\"\u001b[39;49m\u001b[39mmemory_map\u001b[39;49m\u001b[39m\"\u001b[39;49m, \u001b[39mFalse\u001b[39;49;00m),\n\u001b[1;32m   1711\u001b[0m     is_text\u001b[39m=\u001b[39;49mis_text,\n\u001b[1;32m   1712\u001b[0m     errors\u001b[39m=\u001b[39;49m\u001b[39mself\u001b[39;49m\u001b[39m.\u001b[39;49moptions\u001b[39m.\u001b[39;49mget(\u001b[39m\"\u001b[39;49m\u001b[39mencoding_errors\u001b[39;49m\u001b[39m\"\u001b[39;49m, \u001b[39m\"\u001b[39;49m\u001b[39mstrict\u001b[39;49m\u001b[39m\"\u001b[39;49m),\n\u001b[1;32m   1713\u001b[0m     storage_options\u001b[39m=\u001b[39;49m\u001b[39mself\u001b[39;49m\u001b[39m.\u001b[39;49moptions\u001b[39m.\u001b[39;49mget(\u001b[39m\"\u001b[39;49m\u001b[39mstorage_options\u001b[39;49m\u001b[39m\"\u001b[39;49m, \u001b[39mNone\u001b[39;49;00m),\n\u001b[1;32m   1714\u001b[0m )\n\u001b[1;32m   1715\u001b[0m \u001b[39massert\u001b[39;00m \u001b[39mself\u001b[39m\u001b[39m.\u001b[39mhandles \u001b[39mis\u001b[39;00m \u001b[39mnot\u001b[39;00m \u001b[39mNone\u001b[39;00m\n\u001b[1;32m   1716\u001b[0m f \u001b[39m=\u001b[39m \u001b[39mself\u001b[39m\u001b[39m.\u001b[39mhandles\u001b[39m.\u001b[39mhandle\n",
      "File \u001b[0;32m~/Documents/Pandas-brief/.venv/lib/python3.10/site-packages/pandas/io/common.py:863\u001b[0m, in \u001b[0;36mget_handle\u001b[0;34m(path_or_buf, mode, encoding, compression, memory_map, is_text, errors, storage_options)\u001b[0m\n\u001b[1;32m    858\u001b[0m \u001b[39melif\u001b[39;00m \u001b[39misinstance\u001b[39m(handle, \u001b[39mstr\u001b[39m):\n\u001b[1;32m    859\u001b[0m     \u001b[39m# Check whether the filename is to be opened in binary mode.\u001b[39;00m\n\u001b[1;32m    860\u001b[0m     \u001b[39m# Binary mode does not support 'encoding' and 'newline'.\u001b[39;00m\n\u001b[1;32m    861\u001b[0m     \u001b[39mif\u001b[39;00m ioargs\u001b[39m.\u001b[39mencoding \u001b[39mand\u001b[39;00m \u001b[39m\"\u001b[39m\u001b[39mb\u001b[39m\u001b[39m\"\u001b[39m \u001b[39mnot\u001b[39;00m \u001b[39min\u001b[39;00m ioargs\u001b[39m.\u001b[39mmode:\n\u001b[1;32m    862\u001b[0m         \u001b[39m# Encoding\u001b[39;00m\n\u001b[0;32m--> 863\u001b[0m         handle \u001b[39m=\u001b[39m \u001b[39mopen\u001b[39;49m(\n\u001b[1;32m    864\u001b[0m             handle,\n\u001b[1;32m    865\u001b[0m             ioargs\u001b[39m.\u001b[39;49mmode,\n\u001b[1;32m    866\u001b[0m             encoding\u001b[39m=\u001b[39;49mioargs\u001b[39m.\u001b[39;49mencoding,\n\u001b[1;32m    867\u001b[0m             errors\u001b[39m=\u001b[39;49merrors,\n\u001b[1;32m    868\u001b[0m             newline\u001b[39m=\u001b[39;49m\u001b[39m\"\u001b[39;49m\u001b[39m\"\u001b[39;49m,\n\u001b[1;32m    869\u001b[0m         )\n\u001b[1;32m    870\u001b[0m     \u001b[39melse\u001b[39;00m:\n\u001b[1;32m    871\u001b[0m         \u001b[39m# Binary mode\u001b[39;00m\n\u001b[1;32m    872\u001b[0m         handle \u001b[39m=\u001b[39m \u001b[39mopen\u001b[39m(handle, ioargs\u001b[39m.\u001b[39mmode)\n",
      "\u001b[0;31mFileNotFoundError\u001b[0m: [Errno 2] No such file or directory: 'origine_animale.csv'"
     ]
    }
   ],
   "source": [
    "import pandas as pd\n",
    "df_anim = pd.read_csv('origine_animale.csv')\n",
    "df_veg = pd.read_csv('origine_vegetale.csv')\n",
    "df_pop = pd.read_csv('population.csv')\n",
    "\n",
    "df_anim.columns = [title.lower().replace(\" \", \"_\") for title in df_anim.columns]\n",
    "df_veg.columns = [title.lower().replace(\" \", \"_\") for title in df_veg.columns]\n",
    "df_pop.columns = [title.lower().replace(\" \", \"_\") for title in df_pop.columns]\n",
    "\n",
    "print(df_anim.shape)\n",
    "print(df_veg.shape)\n",
    "print(df_pop.shape)"
   ]
  },
  {
   "cell_type": "code",
   "execution_count": null,
   "metadata": {},
   "outputs": [],
   "source": [
    "df_anim.head(5)"
   ]
  },
  {
   "cell_type": "code",
   "execution_count": null,
   "metadata": {},
   "outputs": [],
   "source": [
    "df_veg.head(5)\n"
   ]
  },
  {
   "cell_type": "code",
   "execution_count": null,
   "metadata": {},
   "outputs": [],
   "source": [
    "df_pop.head(5)\n"
   ]
  },
  {
   "cell_type": "code",
   "execution_count": null,
   "metadata": {},
   "outputs": [],
   "source": [
    "# Exercice 4\n",
    "\n",
    "\n",
    "df_anim['type'] = \"animal\"\n",
    "df_veg['type'] = \"vegetal\"\n",
    "\n",
    "product = pd.concat([df_veg,df_anim])\n",
    "product\n"
   ]
  },
  {
   "cell_type": "code",
   "execution_count": null,
   "metadata": {},
   "outputs": [],
   "source": [
    "# Exercice 5\n",
    "\n",
    "\n",
    "df_pop = df_pop[['code_zone_(m49)','zone','année','valeur']]\n",
    "df_pop.rename(columns={'valeur': 'pop_1000_hab'}, inplace=True)\n",
    "df_pop"
   ]
  },
  {
   "cell_type": "code",
   "execution_count": null,
   "metadata": {},
   "outputs": [],
   "source": [
    "# Exercice 6\n",
    "\n",
    "\n",
    "product = product[['code_zone_(m49)','zone','élément','produit', 'année', 'unité', 'valeur', 'type']]\n",
    "product.columns"
   ]
  },
  {
   "cell_type": "code",
   "execution_count": null,
   "metadata": {},
   "outputs": [],
   "source": [
    "# Exercice 7\n",
    "\n",
    "\n",
    "df = pd.merge(df_pop, product, on=['code_zone_(m49)', 'zone', 'année'])\n",
    "df_pop.rename(columns={'valeur': 'pop_1000_hab'}, inplace=True)\n",
    "df.head(10)\n"
   ]
  },
  {
   "cell_type": "code",
   "execution_count": null,
   "metadata": {},
   "outputs": [],
   "source": [
    "# Exercice 8\n",
    "\n",
    "\n",
    "df.dtypes"
   ]
  },
  {
   "cell_type": "code",
   "execution_count": null,
   "metadata": {},
   "outputs": [],
   "source": [
    "# Exercice 9\n",
    "\n",
    "# df[pd.isnull].count()\n",
    "df.isnull().sum()"
   ]
  },
  {
   "cell_type": "code",
   "execution_count": null,
   "metadata": {},
   "outputs": [],
   "source": [
    "# Exercice 10\n",
    "\n",
    "df.describe()"
   ]
  },
  {
   "cell_type": "code",
   "execution_count": null,
   "metadata": {},
   "outputs": [],
   "source": [
    "# Exercice 11\n",
    "\n",
    "df['zone'].unique()"
   ]
  },
  {
   "cell_type": "code",
   "execution_count": null,
   "metadata": {},
   "outputs": [],
   "source": [
    "# Exercice 13\n",
    "\n",
    "df = df.pivot_table(index=['code_zone_(m49)', 'zone','année','pop_1000_hab','produit','type'], columns='élément',values='valeur',aggfunc='first').reset_index()"
   ]
  },
  {
   "cell_type": "code",
   "execution_count": null,
   "metadata": {},
   "outputs": [],
   "source": [
    "# Exercice 14\n",
    "\n",
    "df.rename(columns={'code_zone_(m49)': 'area_country','zone': 'country','année': 'year','produit': 'item','Disponibilité alimentaire (Kcal/personne/jour)': 'food_supply_(Kcal/capital/day)','Disponibilité alimentaire en quantité (kg/personne/an)': 'food_supply_quantity_(kg/capital/year)', 'Disponibilité de matière grasse en quantité (g/personne/jour)': 'fat_supply_quantity_(g/capital/day)','Disponibilité de protéines en quantité (g/personne/jour)': 'protein_supply_quantity_(g/capital/day)'}, inplace=True)\n",
    "df"
   ]
  },
  {
   "cell_type": "code",
   "execution_count": null,
   "metadata": {},
   "outputs": [],
   "source": [
    "# Exercice 15\n",
    "\n",
    "df_2018 = df.mask(df[\"year\"] == 2019).dropna()\n",
    "df_2018"
   ]
  },
  {
   "cell_type": "code",
   "execution_count": null,
   "metadata": {},
   "outputs": [],
   "source": [
    "# Exercice 16\n",
    "\n",
    "df_afr_aust = pd.read_csv('areas/afrique_australe.csv')\n",
    "df_afr_cent = pd.read_csv('areas/afrique_centrale.csv')\n",
    "df_afr_occi = pd.read_csv('areas/afrique_occidentale.csv')\n",
    "df_afr_orient = pd.read_csv('areas/afrique_orientale.csv')\n",
    "df_afr_sept = pd.read_csv('areas/afrique_sept.csv')\n",
    "\n",
    "df_amer_cent = pd.read_csv('areas/amerique_centrale.csv')\n",
    "df_amer_sud = pd.read_csv('areas/amerique_du_sud.csv')\n",
    "df_amer_sept = pd.read_csv('areas/amerique_sept.csv')\n",
    "\n",
    "df_asie_cent = pd.read_csv('areas/asie_centrale.csv')\n",
    "df_asie_merid = pd.read_csv('areas/asie_meridio.csv')\n",
    "df_asie_occi = pd.read_csv('areas/asie_occidentale.csv')\n",
    "df_asie_orient = pd.read_csv('areas/asie_orientale.csv')\n",
    "df_asie_sud = pd.read_csv('areas/asie_sud_est.csv')\n",
    "\n",
    "df_austr_nz = pd.read_csv('areas/australie_nz.csv')\n",
    "\n",
    "df_caraibes = pd.read_csv('areas/caraibes.csv')\n",
    "\n",
    "df_europe_merid = pd.read_csv('areas/europe_meridoniale.csv')\n",
    "df_europe_occi = pd.read_csv('areas/europe_occidentale.csv')\n",
    "df_europe_orient = pd.read_csv('areas/europe_orientale.csv')\n",
    "df_europe_sept = pd.read_csv('areas/europe_septentrionale.csv')\n",
    "\n",
    "df_melanesie = pd.read_csv('areas/melanesie.csv')\n",
    "df_micronesie = pd.read_csv('areas/micronesie.csv')\n",
    "df_polynesie = pd.read_csv('areas/polynesie.csv')"
   ]
  },
  {
   "cell_type": "code",
   "execution_count": null,
   "metadata": {},
   "outputs": [],
   "source": [
    "\n",
    "df_afr_aust['zone_geographique'] = \"afrique australe\"\n",
    "df_afr_cent['zone_geographique'] = \"afrique centrale\"\n",
    "df_afr_occi['zone_geographique'] = \"afrique occidentale\"\n",
    "df_afr_orient['zone_geographique'] = \"afrique orientale\"\n",
    "df_afr_sept['zone_geographique'] = \"afrique septentrionnale\"\n",
    "\n",
    "df_amer_cent['zone_geographique'] = \"amerique centrale\"\n",
    "df_amer_sud['zone_geographique'] = \"amerique sud\"\n",
    "df_amer_sept['zone_geographique'] = \"amerique septentrionnale\"\n",
    "\n",
    "df_asie_cent['zone_geographique'] = \"asie centrale\"\n",
    "df_asie_merid['zone_geographique'] = \"asie merid\"\n",
    "df_asie_occi['zone_geographique'] = \"asie occidentale\"\n",
    "df_asie_orient['zone_geographique'] = \"asie orientale\"\n",
    "df_asie_sud['zone_geographique'] = \"asie sud\"\n",
    "\n",
    "df_austr_nz['zone_geographique'] = \"australie nouvelle zelande\"\n",
    "df_caraibes['zone_geographique'] = \"caraibes\"\n",
    "\n",
    "df_europe_merid['zone_geographique'] = \"europe merid\"\n",
    "df_europe_occi['zone_geographique'] = \"europe occidentale\"\n",
    "df_europe_orient['zone_geographique'] = \"europe orientale\"\n",
    "df_europe_sept['zone_geographique'] = \"europe septentrionnale\"\n",
    "\n",
    "\n",
    "df_melanesie['zone_geographique'] = \"melanesie\"\n",
    "df_micronesie['zone_geographique'] = \"micronesie\"\n",
    "df_polynesie['zone_geographique'] = \"polynesie\"\n",
    "\n",
    "\n",
    "df_geo = pd.concat([df_afr_aust, df_afr_cent, df_afr_occi, df_afr_orient, df_afr_sept, df_amer_cent, df_amer_sud, df_amer_sept, df_asie_cent, df_asie_merid, df_asie_occi, df_asie_orient, df_asie_sud, df_austr_nz, df_caraibes, df_europe_merid, df_europe_occi, df_europe_orient, df_europe_sept])\n",
    "df_geo\n",
    "\n",
    "\n",
    "\n",
    "\n",
    "\n",
    "\n",
    "\n"
   ]
  },
  {
   "cell_type": "code",
   "execution_count": null,
   "metadata": {},
   "outputs": [],
   "source": [
    "df_geo.columns = [title.lower().replace(\" \", \"_\") for title in df_geo.columns]\n",
    "df_geo = df_geo[['code_zone_(m49)', 'zone', 'année', 'valeur', 'zone_geographique']]\n",
    "df_geo.rename(columns={'code_zone_(m49)': 'area_country','zone': 'country','année': 'year', 'valeur' : 'pop_area', 'zone_geographique' : 'geo_area'}, inplace=True)\n"
   ]
  },
  {
   "cell_type": "code",
   "execution_count": null,
   "metadata": {},
   "outputs": [],
   "source": []
  }
 ],
 "metadata": {
  "kernelspec": {
   "display_name": ".venv",
   "language": "python",
   "name": "python3"
  },
  "language_info": {
   "codemirror_mode": {
    "name": "ipython",
    "version": 3
   },
   "file_extension": ".py",
   "mimetype": "text/x-python",
   "name": "python",
   "nbconvert_exporter": "python",
   "pygments_lexer": "ipython3",
   "version": "3.10.12"
  }
 },
 "nbformat": 4,
 "nbformat_minor": 2
}
